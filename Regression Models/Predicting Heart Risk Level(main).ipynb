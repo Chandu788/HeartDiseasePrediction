{
 "cells": [
  {
   "cell_type": "code",
   "execution_count": 1,
   "metadata": {},
   "outputs": [
    {
     "name": "stdout",
     "output_type": "stream",
     "text": [
      "[[  2.  48. 236.  66.   0.   2.   0.]\n",
      " [  1.  48. 260.  51.   0.   2.   1.]\n",
      " [  1.  44. 187.  49.   1.   2.   0.]\n",
      " [  2.  42. 216.  57.   1.   2.   0.]\n",
      " [  2.  56. 156.  42.   0.   2.   0.]\n",
      " [  1.  44. 162.  57.   1.   2.   0.]\n",
      " [  1.  50. 244.  47.   0.   2.   0.]\n",
      " [  1.  48. 212.  30.   1.   2.   0.]\n",
      " [  2.  66. 202.  53.   0.   2.   1.]\n",
      " [  1.  63. 186.  46.   1.   2.   0.]]\n",
      "[[ 1.1]\n",
      " [ 7. ]\n",
      " [ 7. ]\n",
      " [ 0.4]\n",
      " [ 2.2]\n",
      " [ 3. ]\n",
      " [ 4.2]\n",
      " [17.4]\n",
      " [13.4]\n",
      " [17.3]]\n",
      "size of the dataset: 6644\n"
     ]
    }
   ],
   "source": [
    "import pandas as pd\n",
    "import numpy as np\n",
    "import seaborn as sns\n",
    "import matplotlib.pyplot as plt\n",
    "from sklearn.metrics import r2_score\n",
    "\n",
    "dataset=pd.read_csv('cardio_dataset.csv').values\n",
    "\n",
    "data=dataset[:,0:7]\n",
    "target=dataset[:,7]\n",
    "\n",
    "target=np.reshape(target, (-1,1))\n",
    "\n",
    "print(data[:10])\n",
    "print(target[:10])\n",
    "print('size of the dataset:',len(dataset))"
   ]
  },
  {
   "cell_type": "code",
   "execution_count": 2,
   "metadata": {},
   "outputs": [
    {
     "data": {
      "text/plain": [
       "numpy.ndarray"
      ]
     },
     "execution_count": 2,
     "metadata": {},
     "output_type": "execute_result"
    }
   ],
   "source": [
    "type(dataset)"
   ]
  },
  {
   "cell_type": "code",
   "execution_count": 3,
   "metadata": {},
   "outputs": [],
   "source": [
    "from sklearn.model_selection import train_test_split\n",
    "\n",
    "train_data,test_data,train_target,test_target=train_test_split(data,target,test_size=0.2,random_state = 42)"
   ]
  },
  {
   "cell_type": "code",
   "execution_count": 4,
   "metadata": {},
   "outputs": [],
   "source": [
    "from sklearn.linear_model import LinearRegression\n",
    "\n",
    "model=LinearRegression()\n",
    "\n",
    "model.fit(train_data,train_target)\n",
    "predicted_target=model.predict(test_data)"
   ]
  },
  {
   "cell_type": "code",
   "execution_count": 5,
   "metadata": {},
   "outputs": [
    {
     "name": "stdout",
     "output_type": "stream",
     "text": [
      "r2 score: 0.7454371901898063\n"
     ]
    }
   ],
   "source": [
    "score_lr=r2_score(test_target,predicted_target)\n",
    "print(\"r2 score:\",score_lr)\n"
   ]
  },
  {
   "cell_type": "code",
   "execution_count": 6,
   "metadata": {},
   "outputs": [
    {
     "name": "stdout",
     "output_type": "stream",
     "text": [
      "Actual Target: [[ 4.9  0.2  2.2  3.5 38.3  1.5  8.3 34.9  4.4  5.4]]\n",
      "Predicted Target: [[13.25466522 -8.75488528  0.66416184  2.4056147  35.85826637 -0.73016764\n",
      "  15.04110983 17.53178405  5.36303252  9.80840536]]\n"
     ]
    }
   ],
   "source": [
    "print('Actual Target:',test_target[:10].T)\n",
    "print('Predicted Target:',predicted_target[:10].T)"
   ]
  },
  {
   "cell_type": "code",
   "execution_count": 7,
   "metadata": {},
   "outputs": [],
   "source": [
    "from sklearn.preprocessing import PolynomialFeatures\n",
    "poly_reg = PolynomialFeatures(degree=3)\n",
    "X_poly = poly_reg.fit_transform(train_data)\n",
    "model_2 = LinearRegression()\n",
    "model_2.fit(X_poly, train_target)\n",
    "predicted_target1=model_2.predict(poly_reg.fit_transform(test_data))"
   ]
  },
  {
   "cell_type": "code",
   "execution_count": 8,
   "metadata": {},
   "outputs": [
    {
     "name": "stdout",
     "output_type": "stream",
     "text": [
      "r2 score: 0.8554038111944858\n"
     ]
    }
   ],
   "source": [
    "score_pol=r2_score(test_target,predicted_target1)\n",
    "print(\"r2 score:\",score_pol)\n"
   ]
  },
  {
   "cell_type": "code",
   "execution_count": 9,
   "metadata": {},
   "outputs": [
    {
     "name": "stdout",
     "output_type": "stream",
     "text": [
      "Actual Target: [[ 4.9  0.2  2.2  3.5 38.3  1.5  8.3 34.9  4.4  5.4]]\n",
      "Predicted Target: [[ 8.03138575  1.77272135  6.81694935  3.28047201 48.14270978  0.74723194\n",
      "   9.89224172 17.39248585  5.56980706  6.39080546]]\n"
     ]
    }
   ],
   "source": [
    "print('Actual Target:',test_target[:10].T)\n",
    "print('Predicted Target:',predicted_target1[:10].T)"
   ]
  },
  {
   "cell_type": "code",
   "execution_count": 10,
   "metadata": {},
   "outputs": [],
   "source": [
    "from sklearn.svm import SVR \n",
    "model_3 = SVR(kernel = 'rbf') \n",
    "model_3.fit(data,target.ravel())\n",
    "predicted_target2=model_3.predict(test_data)"
   ]
  },
  {
   "cell_type": "code",
   "execution_count": 11,
   "metadata": {},
   "outputs": [
    {
     "name": "stdout",
     "output_type": "stream",
     "text": [
      "r2 score: 0.45101473239222534\n"
     ]
    }
   ],
   "source": [
    "\n",
    "score_svr1=r2_score(test_target,predicted_target2)\n",
    "print(\"r2 score:\",score_svr1)"
   ]
  },
  {
   "cell_type": "code",
   "execution_count": 12,
   "metadata": {},
   "outputs": [],
   "source": [
    "from sklearn.svm import SVR \n",
    "model_4 = SVR(kernel = 'linear') \n",
    "model_4.fit(data,target.ravel())\n",
    "predicted_target3=model_4.predict(test_data)"
   ]
  },
  {
   "cell_type": "code",
   "execution_count": 13,
   "metadata": {},
   "outputs": [
    {
     "name": "stdout",
     "output_type": "stream",
     "text": [
      "r2 score: 0.7093773289998118\n"
     ]
    }
   ],
   "source": [
    "\n",
    "score_svr2=r2_score(test_target,predicted_target3)\n",
    "print(\"r2 score:\",score_svr2)"
   ]
  },
  {
   "cell_type": "code",
   "execution_count": 14,
   "metadata": {},
   "outputs": [
    {
     "name": "stdout",
     "output_type": "stream",
     "text": [
      "Actual Target: [[ 4.9  0.2  2.2  3.5 38.3  1.5  8.3 34.9  4.4  5.4]]\n",
      "Predicted Target: [11.82519168 -1.48023369  1.28511072  5.3248309  13.93310401  1.5711459\n",
      " 11.82171041 16.88228215  6.09030353 12.41215984]\n"
     ]
    }
   ],
   "source": [
    "print('Actual Target:',test_target[:10].T)\n",
    "print('Predicted Target:',predicted_target2[:10].T)"
   ]
  },
  {
   "cell_type": "code",
   "execution_count": 15,
   "metadata": {},
   "outputs": [],
   "source": [
    "\n",
    "from sklearn.svm import SVR \n",
    "model_5 = SVR(kernel ='poly', degree = 5) \n",
    "model_5.fit(data,target.ravel())\n",
    "predicted_target4=model_5.predict(test_data)"
   ]
  },
  {
   "cell_type": "code",
   "execution_count": 16,
   "metadata": {},
   "outputs": [
    {
     "name": "stdout",
     "output_type": "stream",
     "text": [
      "r2 score: 0.4569519731815056\n"
     ]
    }
   ],
   "source": [
    "\n",
    "score_svr3=r2_score(test_target,predicted_target4)\n",
    "print(\"r2 score:\",score_svr3)"
   ]
  },
  {
   "cell_type": "code",
   "execution_count": 17,
   "metadata": {},
   "outputs": [],
   "source": [
    "from sklearn.tree import DecisionTreeRegressor\n",
    "model_6 = DecisionTreeRegressor()\n",
    "model_6.fit(train_data,train_target)\n",
    "predicted_target5=model_6.predict(test_data)"
   ]
  },
  {
   "cell_type": "code",
   "execution_count": 18,
   "metadata": {},
   "outputs": [
    {
     "name": "stdout",
     "output_type": "stream",
     "text": [
      "r2 score: 0.738066754118115\n"
     ]
    }
   ],
   "source": [
    "\n",
    "score_dt=r2_score(test_target,predicted_target5)\n",
    "print(\"r2 score:\",score_dt)"
   ]
  },
  {
   "cell_type": "code",
   "execution_count": 19,
   "metadata": {},
   "outputs": [
    {
     "name": "stdout",
     "output_type": "stream",
     "text": [
      "Actual Target: [[ 4.9  0.2  2.2  3.5 38.3  1.5  8.3 34.9  4.4  5.4]]\n",
      "Predicted Target: [12.27501641 -6.70634198  0.24399245  2.94028003 29.93057857  0.40798203\n",
      " 13.15871463 16.30757007  5.06595268  8.79248646]\n"
     ]
    }
   ],
   "source": [
    "print('Actual Target:',test_target[:10].T)\n",
    "print('Predicted Target:',predicted_target3[:10].T)"
   ]
  },
  {
   "cell_type": "code",
   "execution_count": 20,
   "metadata": {},
   "outputs": [],
   "source": [
    "from sklearn.linear_model import BayesianRidge\n",
    "model_7 = BayesianRidge()\n",
    "model_7.fit(train_data,train_target.ravel())\n",
    "   \n",
    "predicted_target6 = model_7.predict(test_data)"
   ]
  },
  {
   "cell_type": "code",
   "execution_count": 21,
   "metadata": {},
   "outputs": [
    {
     "name": "stdout",
     "output_type": "stream",
     "text": [
      "r2 score: 0.7454160200448335\n"
     ]
    }
   ],
   "source": [
    "\n",
    "score_br=r2_score(test_target,predicted_target6)\n",
    "print(\"r2 score:\",score_br)"
   ]
  },
  {
   "cell_type": "code",
   "execution_count": 22,
   "metadata": {},
   "outputs": [],
   "source": [
    "from sklearn.linear_model import Ridge, Lasso\n",
    "model_8 = Lasso()\n",
    "model_8.fit(train_data,train_target)\n",
    "predicted_target7=model_8.predict(test_data)"
   ]
  },
  {
   "cell_type": "code",
   "execution_count": 23,
   "metadata": {},
   "outputs": [
    {
     "name": "stdout",
     "output_type": "stream",
     "text": [
      "r2 score: 0.6274348506184926\n"
     ]
    }
   ],
   "source": [
    "\n",
    "score_ls=r2_score(test_target,predicted_target7)\n",
    "print(\"r2 score:\",score_ls)\n"
   ]
  },
  {
   "cell_type": "code",
   "execution_count": 24,
   "metadata": {},
   "outputs": [],
   "source": [
    "from sklearn.linear_model import Ridge, Lasso\n",
    "model_9 = Ridge()\n",
    "model_9.fit(train_data,train_target)\n",
    "predicted_target8=model_9.predict(test_data)"
   ]
  },
  {
   "cell_type": "code",
   "execution_count": 25,
   "metadata": {},
   "outputs": [
    {
     "name": "stdout",
     "output_type": "stream",
     "text": [
      "r2 score: 0.7454226227510454\n"
     ]
    }
   ],
   "source": [
    "score_rg=r2_score(test_target,predicted_target8)\n",
    "print(\"r2 score:\",score_rg)\n"
   ]
  },
  {
   "cell_type": "code",
   "execution_count": 26,
   "metadata": {},
   "outputs": [],
   "source": [
    "from sklearn.ensemble import RandomForestRegressor\n",
    "model_10 = RandomForestRegressor(n_estimators = 1000)\n",
    "model_10.fit(train_data,train_target.ravel())\n",
    "predicted_target9=model_10.predict(test_data)"
   ]
  },
  {
   "cell_type": "code",
   "execution_count": 27,
   "metadata": {},
   "outputs": [
    {
     "name": "stdout",
     "output_type": "stream",
     "text": [
      "r2 score: 0.846471661988599\n"
     ]
    }
   ],
   "source": [
    "score_rf=r2_score(test_target,predicted_target9)\n",
    "print(\"r2 score:\",score_rf)\n"
   ]
  },
  {
   "cell_type": "code",
   "execution_count": 28,
   "metadata": {},
   "outputs": [
    {
     "name": "stdout",
     "output_type": "stream",
     "text": [
      "The accuracy score achieved using Linear Regression is: 0.7454371901898063\n",
      "The accuracy score achieved using Polynomial Regression is: 0.8554038111944858\n",
      "The accuracy score achieved using Support Vector Regression with RBf kernel is: 0.45101473239222534\n",
      "The accuracy score achieved using Support Vector Regression with Linear kernel is: 0.7093773289998118\n",
      "The accuracy score achieved using Support Vector Regression with Poly kernel is: 0.4569519731815056\n",
      "The accuracy score achieved using Decision Tree Regression is: 0.738066754118115\n",
      "The accuracy score achieved using BayesianRidge is: 0.7454160200448335\n",
      "The accuracy score achieved using Lasso is: 0.6274348506184926\n",
      "The accuracy score achieved using Ridge  is: 0.7454226227510454\n",
      "The accuracy score achieved using Random Forest Regression is: 0.846471661988599\n"
     ]
    }
   ],
   "source": [
    "scores = [score_lr,score_pol,score_svr1,score_svr2,score_svr3,score_dt,score_br,score_ls,score_rg,score_rf]\n",
    "algorithms = [\"Linear Regression\",\"Polynomial Regression\",\"Support Vector Regression with RBf kernel\",\"Support Vector Regression with Linear kernel\",\"Support Vector Regression with Poly kernel\",\"Decision Tree Regression\",\"BayesianRidge\",\"Lasso\",\"Ridge \",\"Random Forest Regression\"]    \n",
    "\n",
    "for i in range(len(algorithms)):\n",
    "    print(\"The accuracy score achieved using \"+algorithms[i]+\" is: \"+str(scores[i]))"
   ]
  },
  {
   "cell_type": "code",
   "execution_count": 29,
   "metadata": {},
   "outputs": [],
   "source": [
    "final_data = pd.DataFrame({'Models' :[\"LR\",\"PR\",\"S-Rbf\",\"S-LIN\",\"S-Poly \",\"DTR\",\"BR\",\"LS\",\"RI \",\"RFR\"],\n",
    "'Accuracy' : [score_lr,score_pol,score_svr1,score_svr2,score_svr3,score_dt,score_br,score_ls,score_rg,score_rf] })"
   ]
  },
  {
   "cell_type": "code",
   "execution_count": 30,
   "metadata": {},
   "outputs": [
    {
     "data": {
      "text/html": [
       "<div>\n",
       "<style scoped>\n",
       "    .dataframe tbody tr th:only-of-type {\n",
       "        vertical-align: middle;\n",
       "    }\n",
       "\n",
       "    .dataframe tbody tr th {\n",
       "        vertical-align: top;\n",
       "    }\n",
       "\n",
       "    .dataframe thead th {\n",
       "        text-align: right;\n",
       "    }\n",
       "</style>\n",
       "<table border=\"1\" class=\"dataframe\">\n",
       "  <thead>\n",
       "    <tr style=\"text-align: right;\">\n",
       "      <th></th>\n",
       "      <th>Models</th>\n",
       "      <th>Accuracy</th>\n",
       "    </tr>\n",
       "  </thead>\n",
       "  <tbody>\n",
       "    <tr>\n",
       "      <th>0</th>\n",
       "      <td>LR</td>\n",
       "      <td>0.745437</td>\n",
       "    </tr>\n",
       "    <tr>\n",
       "      <th>1</th>\n",
       "      <td>PR</td>\n",
       "      <td>0.855404</td>\n",
       "    </tr>\n",
       "    <tr>\n",
       "      <th>2</th>\n",
       "      <td>S-Rbf</td>\n",
       "      <td>0.451015</td>\n",
       "    </tr>\n",
       "    <tr>\n",
       "      <th>3</th>\n",
       "      <td>S-LIN</td>\n",
       "      <td>0.709377</td>\n",
       "    </tr>\n",
       "    <tr>\n",
       "      <th>4</th>\n",
       "      <td>S-Poly</td>\n",
       "      <td>0.456952</td>\n",
       "    </tr>\n",
       "    <tr>\n",
       "      <th>5</th>\n",
       "      <td>DTR</td>\n",
       "      <td>0.738067</td>\n",
       "    </tr>\n",
       "    <tr>\n",
       "      <th>6</th>\n",
       "      <td>BR</td>\n",
       "      <td>0.745416</td>\n",
       "    </tr>\n",
       "    <tr>\n",
       "      <th>7</th>\n",
       "      <td>LS</td>\n",
       "      <td>0.627435</td>\n",
       "    </tr>\n",
       "    <tr>\n",
       "      <th>8</th>\n",
       "      <td>RI</td>\n",
       "      <td>0.745423</td>\n",
       "    </tr>\n",
       "    <tr>\n",
       "      <th>9</th>\n",
       "      <td>RFR</td>\n",
       "      <td>0.846472</td>\n",
       "    </tr>\n",
       "  </tbody>\n",
       "</table>\n",
       "</div>"
      ],
      "text/plain": [
       "    Models  Accuracy\n",
       "0       LR  0.745437\n",
       "1       PR  0.855404\n",
       "2    S-Rbf  0.451015\n",
       "3    S-LIN  0.709377\n",
       "4  S-Poly   0.456952\n",
       "5      DTR  0.738067\n",
       "6       BR  0.745416\n",
       "7       LS  0.627435\n",
       "8      RI   0.745423\n",
       "9      RFR  0.846472"
      ]
     },
     "execution_count": 30,
     "metadata": {},
     "output_type": "execute_result"
    }
   ],
   "source": [
    "final_data"
   ]
  },
  {
   "cell_type": "code",
   "execution_count": 31,
   "metadata": {},
   "outputs": [
    {
     "data": {
      "text/plain": [
       "<matplotlib.axes._subplots.AxesSubplot at 0x12286d72850>"
      ]
     },
     "execution_count": 31,
     "metadata": {},
     "output_type": "execute_result"
    },
    {
     "data": {
      "image/png": "[encoded data removed]",
      "text/plain": [
       "<Figure size 432x288 with 1 Axes>"
      ]
     },
     "metadata": {
      "needs_background": "light"
     },
     "output_type": "display_data"
    }
   ],
   "source": [
    "sns.barplot(final_data['Models'],final_data['Accuracy'])"
   ]
  },
  {
   "cell_type": "code",
   "execution_count": 32,
   "metadata": {},
   "outputs": [
    {
     "data": {
      "text/plain": [
       "['heart_risk_prediction_regression_model.sav']"
      ]
     },
     "execution_count": 32,
     "metadata": {},
     "output_type": "execute_result"
    }
   ],
   "source": [
    "import joblib\n",
    "\n",
    "joblib.dump(model,'heart_risk_prediction_regression_model.sav')"
   ]
  }
 ],
 "metadata": {
  "kernelspec": {
   "display_name": "Python 3",
   "language": "python",
   "name": "python3"
  },
  "language_info": {
   "codemirror_mode": {
    "name": "ipython",
    "version": 3
   },
   "file_extension": ".py",
   "mimetype": "text/x-python",
   "name": "python",
   "nbconvert_exporter": "python",
   "pygments_lexer": "ipython3",
   "version": "3.8.3"
  }
 },
 "nbformat": 4,
 "nbformat_minor": 2
}
